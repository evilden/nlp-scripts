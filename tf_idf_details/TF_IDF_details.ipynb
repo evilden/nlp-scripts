{
  "nbformat": 4,
  "nbformat_minor": 0,
  "metadata": {
    "colab": {
      "name": "TF-IDF_example.ipynb",
      "provenance": []
    },
    "kernelspec": {
      "name": "python3",
      "display_name": "Python 3"
    }
  },
  "cells": [
    {
      "cell_type": "markdown",
      "metadata": {
        "id": "lXToC5a2H6oi"
      },
      "source": [
        "#### TF-IDF"
      ]
    },
    {
      "cell_type": "markdown",
      "metadata": {
        "id": "jiJ_pvCgH9xE"
      },
      "source": [
        "$n_{\\mathbb{d}\\mathbb{w}}$ - term frequency - the number of times that word/term $\\mathbb{w}$ occurs in document $\\mathbb{d}$ \n",
        "divided by the number of all words in the document;<br>\n",
        "$N_{\\mathbb{w}}$ - the number of documents containing the term $\\mathbb{w}$;<br>\n",
        "$N$ - total number of documents; <br><br>\n",
        "\n",
        "$p(\\mathbb{w}, \\mathbb{d}) = N_{\\mathbb{w}} / N$ - probabilty of appearence of the term $\\mathbb{w}$ in any document $\\mathbb{d}$ \n",
        "<br>\n",
        "$P(\\mathbb{w}, \\mathbb{d}, n_{\\mathbb{d}\\mathbb{w}}) = (N_{\\mathbb{w}} / N)^{n_{\\mathbb{d}\\mathbb{w}}}$ - probability that the given term $\\mathbb{w}$ appears $n_{\\mathbb{d}\\mathbb{w}}$ times in document $\\mathbb{d}$<br><br>\n",
        "\n",
        "$-\\log{P(\\mathbb{w}, \\mathbb{d}, n_{\\mathbb{d}\\mathbb{w}})} = n_{\\mathbb{d}\\mathbb{w}} \\cdot \\log{(N / N_{\\mathbb{w}})} = TF(\\mathbb{w}, \\mathbb{d}) \\cdot IDF(\\mathbb{w})$<br><br>\n",
        "\n",
        "$TF(\\mathbb{w}, \\mathbb{d}) = n_{\\mathbb{d}\\mathbb{w}}$ - term frequency;<br>\n",
        "$IDF(\\mathbb{w}) = \\log{(N /N_{\\mathbb{w}})}$ - inverted document frequency;"
      ]
    },
    {
      "cell_type": "markdown",
      "metadata": {
        "id": "iksete4U2e7W"
      },
      "source": [
        "### Some parameters of TfidfVectorizer\n",
        "\n",
        "##### input : string {‘filename’, ‘file’, ‘content’}\n",
        "##### lowercase : boolean, default True\n",
        "##### preprocessor : callable or None (default)\n",
        "##### tokenizer : callable or None (default)\n",
        "##### stop_words : string {‘english’}, list, or None (default)\n",
        "##### ngram_range : tuple (min_n, max_n)\n",
        "##### max_df : float in range [0.0, 1.0] or int, default=1.0\n",
        "##### min_df : float in range [0.0, 1.0] or int, default=1\n",
        "##### max_features : int or None, default=None\n"
      ]
    },
    {
      "cell_type": "code",
      "metadata": {
        "colab": {
          "base_uri": "https://localhost:8080/"
        },
        "id": "5Ys0dV-RIDYz",
        "outputId": "1220540a-de11-4199-879a-369e2e786dbe"
      },
      "source": [
        "from sklearn.datasets import fetch_20newsgroups\n",
        "\n",
        "categories = ['alt.atheism', 'talk.religion.misc',\n",
        "              'comp.graphics', 'sci.space']\n",
        "newsgroups_train = fetch_20newsgroups(subset='train',\n",
        "                                      categories=categories)"
      ],
      "execution_count": 1,
      "outputs": [
        {
          "output_type": "stream",
          "text": [
            "Downloading 20news dataset. This may take a few minutes.\n",
            "Downloading dataset from https://ndownloader.figshare.com/files/5975967 (14 MB)\n"
          ],
          "name": "stderr"
        }
      ]
    },
    {
      "cell_type": "code",
      "metadata": {
        "id": "oR21XB3q3G0B"
      },
      "source": [
        "newsgroups_train.data[:5]"
      ],
      "execution_count": null,
      "outputs": []
    },
    {
      "cell_type": "code",
      "metadata": {
        "colab": {
          "base_uri": "https://localhost:8080/"
        },
        "id": "RdpDkFmL2YaJ",
        "outputId": "bb225c9d-d0f7-4981-84e0-a035afa07f5e"
      },
      "source": [
        "from sklearn.feature_extraction.text import TfidfVectorizer\n",
        "\n",
        "vectorizer = TfidfVectorizer()\n",
        "vectors = vectorizer.fit_transform(newsgroups_train.data)\n",
        "vectors.shape"
      ],
      "execution_count": 3,
      "outputs": [
        {
          "output_type": "execute_result",
          "data": {
            "text/plain": [
              "(2034, 34118)"
            ]
          },
          "metadata": {
            "tags": []
          },
          "execution_count": 3
        }
      ]
    },
    {
      "cell_type": "code",
      "metadata": {
        "colab": {
          "base_uri": "https://localhost:8080/"
        },
        "id": "i1KMtbec3AyP",
        "outputId": "56fe96ef-5a82-4a5b-ea1d-1668ebff0f45"
      },
      "source": [
        "vectorizer = TfidfVectorizer(lowercase=False)\n",
        "vectors = vectorizer.fit_transform(newsgroups_train.data)\n",
        "vectors.shape"
      ],
      "execution_count": 4,
      "outputs": [
        {
          "output_type": "execute_result",
          "data": {
            "text/plain": [
              "(2034, 42307)"
            ]
          },
          "metadata": {
            "tags": []
          },
          "execution_count": 4
        }
      ]
    },
    {
      "cell_type": "code",
      "metadata": {
        "colab": {
          "base_uri": "https://localhost:8080/"
        },
        "id": "z4Dq2d0I3Kct",
        "outputId": "23a39c73-4d72-4fc7-f71e-8244c837754f"
      },
      "source": [
        "vectorizer.get_feature_names()[:10]"
      ],
      "execution_count": 5,
      "outputs": [
        {
          "output_type": "execute_result",
          "data": {
            "text/plain": [
              "['00',\n",
              " '000',\n",
              " '0000',\n",
              " '00000',\n",
              " '000000',\n",
              " '000005102000',\n",
              " '000021',\n",
              " '000062David42',\n",
              " '0000VEC',\n",
              " '0001']"
            ]
          },
          "metadata": {
            "tags": []
          },
          "execution_count": 5
        }
      ]
    },
    {
      "cell_type": "code",
      "metadata": {
        "colab": {
          "base_uri": "https://localhost:8080/"
        },
        "id": "R2YhUuzk3zG5",
        "outputId": "54302810-363d-4dee-acea-e1a6f3f6f30c"
      },
      "source": [
        "vectorizer = TfidfVectorizer(min_df=0.8)\n",
        "vectors = vectorizer.fit_transform(newsgroups_train.data)\n",
        "vectors.shape"
      ],
      "execution_count": 6,
      "outputs": [
        {
          "output_type": "execute_result",
          "data": {
            "text/plain": [
              "(2034, 9)"
            ]
          },
          "metadata": {
            "tags": []
          },
          "execution_count": 6
        }
      ]
    },
    {
      "cell_type": "code",
      "metadata": {
        "colab": {
          "base_uri": "https://localhost:8080/"
        },
        "id": "sy1Tw_Cr32eB",
        "outputId": "0ee2fe0a-6368-490b-c9bd-215375a4260c"
      },
      "source": [
        "vectorizer.get_feature_names()"
      ],
      "execution_count": 7,
      "outputs": [
        {
          "output_type": "execute_result",
          "data": {
            "text/plain": [
              "['and', 'from', 'in', 'lines', 'of', 'organization', 'subject', 'the', 'to']"
            ]
          },
          "metadata": {
            "tags": []
          },
          "execution_count": 7
        }
      ]
    },
    {
      "cell_type": "code",
      "metadata": {
        "colab": {
          "base_uri": "https://localhost:8080/"
        },
        "id": "wby51AxC37L3",
        "outputId": "1bf50a2a-f3d4-4023-e03e-fecbcf2fcb68"
      },
      "source": [
        "vectorizer = TfidfVectorizer(min_df=0.01, max_df=0.8)\n",
        "vectors = vectorizer.fit_transform(newsgroups_train.data)\n",
        "vectors.shape"
      ],
      "execution_count": 8,
      "outputs": [
        {
          "output_type": "execute_result",
          "data": {
            "text/plain": [
              "(2034, 2391)"
            ]
          },
          "metadata": {
            "tags": []
          },
          "execution_count": 8
        }
      ]
    },
    {
      "cell_type": "code",
      "metadata": {
        "colab": {
          "base_uri": "https://localhost:8080/"
        },
        "id": "aE9iO5wC3_jc",
        "outputId": "0202441a-3ec9-41bc-daf7-0c7fda5fd0c8"
      },
      "source": [
        "vectorizer = TfidfVectorizer(ngram_range=(1, 3), min_df=0.03, max_df=0.9)\n",
        "vectors = vectorizer.fit_transform(newsgroups_train.data)\n",
        "vectors.shape"
      ],
      "execution_count": 9,
      "outputs": [
        {
          "output_type": "execute_result",
          "data": {
            "text/plain": [
              "(2034, 1236)"
            ]
          },
          "metadata": {
            "tags": []
          },
          "execution_count": 9
        }
      ]
    },
    {
      "cell_type": "code",
      "metadata": {
        "colab": {
          "base_uri": "https://localhost:8080/"
        },
        "id": "vrScK0Dj4DV1",
        "outputId": "1c036bdb-0b1e-4549-c9ef-6043c88520cd"
      },
      "source": [
        "import nltk\n",
        "from nltk.corpus import stopwords\n",
        "from nltk.tokenize import word_tokenize\n",
        "\n",
        "nltk.download('punkt')\n",
        "nltk.download('stopwords')\n",
        "nltk.download('wordnet')\n",
        "\n",
        "stopWords = set(stopwords.words('english'))\n",
        "wnl = nltk.WordNetLemmatizer()"
      ],
      "execution_count": 10,
      "outputs": [
        {
          "output_type": "stream",
          "text": [
            "[nltk_data] Downloading package punkt to /root/nltk_data...\n",
            "[nltk_data]   Unzipping tokenizers/punkt.zip.\n",
            "[nltk_data] Downloading package stopwords to /root/nltk_data...\n",
            "[nltk_data]   Unzipping corpora/stopwords.zip.\n",
            "[nltk_data] Downloading package wordnet to /root/nltk_data...\n",
            "[nltk_data]   Unzipping corpora/wordnet.zip.\n"
          ],
          "name": "stdout"
        }
      ]
    },
    {
      "cell_type": "code",
      "metadata": {
        "colab": {
          "base_uri": "https://localhost:8080/",
          "height": 35
        },
        "id": "aPqUL9168CcJ",
        "outputId": "9769c7a7-ef27-42f1-fdf8-c172d7585b2c"
      },
      "source": [
        "def preproc1(text):\n",
        "    return ' '.join([wnl.lemmatize(word) for word in word_tokenize(text.lower()) if word not in stopWords])\n",
        "\n",
        "st = \"The saddest aspect of life right now is that science gathers knowledge faster than society gathers wisdom.\"\n",
        "preproc1(st)"
      ],
      "execution_count": 11,
      "outputs": [
        {
          "output_type": "execute_result",
          "data": {
            "application/vnd.google.colaboratory.intrinsic+json": {
              "type": "string"
            },
            "text/plain": [
              "'saddest aspect life right science gather knowledge faster society gather wisdom .'"
            ]
          },
          "metadata": {
            "tags": []
          },
          "execution_count": 11
        }
      ]
    },
    {
      "cell_type": "code",
      "metadata": {
        "colab": {
          "base_uri": "https://localhost:8080/"
        },
        "id": "-WlFDLQ28ZaX",
        "outputId": "026f516c-5afe-47e9-f577-51339f3cb937"
      },
      "source": [
        "vectorizer = TfidfVectorizer(preprocessor=preproc1)\n",
        "vectors = vectorizer.fit_transform(newsgroups_train.data)\n",
        "vectors.shape"
      ],
      "execution_count": 12,
      "outputs": [
        {
          "output_type": "execute_result",
          "data": {
            "text/plain": [
              "(2034, 31719)"
            ]
          },
          "metadata": {
            "tags": []
          },
          "execution_count": 12
        }
      ]
    },
    {
      "cell_type": "code",
      "metadata": {
        "colab": {
          "base_uri": "https://localhost:8080/"
        },
        "id": "dqq4uIP881kt",
        "outputId": "fa21f23e-1c51-4c2a-8dc7-a8ad82cbb3af"
      },
      "source": [
        "#vectorizer = TfidfVectorizer(preprocessor=preproc1, ngram_range=(1, 3), max_df=0.5, max_features=1000)\n",
        "vectorizer = TfidfVectorizer(preprocessor=preproc1, min_df = 0.001, max_df=0.9)\n",
        "vectors = vectorizer.fit_transform(newsgroups_train.data)\n",
        "vectors.shape"
      ],
      "execution_count": 13,
      "outputs": [
        {
          "output_type": "execute_result",
          "data": {
            "text/plain": [
              "(2034, 11371)"
            ]
          },
          "metadata": {
            "tags": []
          },
          "execution_count": 13
        }
      ]
    },
    {
      "cell_type": "code",
      "metadata": {
        "id": "rolvaMuG-HoT"
      },
      "source": [
        "vectorizer.get_feature_names()[::100]"
      ],
      "execution_count": null,
      "outputs": []
    },
    {
      "cell_type": "code",
      "metadata": {
        "id": "orD9VhzJ-L1C"
      },
      "source": [
        "from sklearn.model_selection import train_test_split\n",
        "from sklearn import svm\n",
        "from sklearn.linear_model import SGDClassifier"
      ],
      "execution_count": 15,
      "outputs": []
    },
    {
      "cell_type": "code",
      "metadata": {
        "colab": {
          "base_uri": "https://localhost:8080/"
        },
        "id": "SVdWw59C-QYd",
        "outputId": "b52b8349-adcb-4981-ae9a-07ccbf433aeb"
      },
      "source": [
        "dense_vectors = vectors.todense()\n",
        "X_train, X_test, y_train, y_test= train_test_split(dense_vectors, newsgroups_train.target, test_size=0.2, random_state=0)\n",
        "y_train.shape, y_test.shape"
      ],
      "execution_count": 16,
      "outputs": [
        {
          "output_type": "execute_result",
          "data": {
            "text/plain": [
              "((1627,), (407,))"
            ]
          },
          "metadata": {
            "tags": []
          },
          "execution_count": 16
        }
      ]
    },
    {
      "cell_type": "code",
      "metadata": {
        "colab": {
          "base_uri": "https://localhost:8080/"
        },
        "id": "IVNCXqdmDww0",
        "outputId": "95d9c554-7264-4923-d9f8-80701005433c"
      },
      "source": [
        "from sklearn.metrics import accuracy_score\n",
        "\n",
        "svc = svm.SVC()\n",
        "svc.fit(X_train, y_train)\n",
        "accuracy_score(y_test, svc.predict(X_test))"
      ],
      "execution_count": 17,
      "outputs": [
        {
          "output_type": "execute_result",
          "data": {
            "text/plain": [
              "0.9606879606879607"
            ]
          },
          "metadata": {
            "tags": []
          },
          "execution_count": 17
        }
      ]
    },
    {
      "cell_type": "code",
      "metadata": {
        "colab": {
          "base_uri": "https://localhost:8080/"
        },
        "id": "bAVoH12TEDUV",
        "outputId": "b1d77047-7dac-4951-9053-38a5d0876f56"
      },
      "source": [
        "sgd = SGDClassifier()\n",
        "sgd.fit(X_train, y_train)\n",
        "accuracy_score(y_test, sgd.predict(X_test))"
      ],
      "execution_count": 18,
      "outputs": [
        {
          "output_type": "execute_result",
          "data": {
            "text/plain": [
              "0.9582309582309583"
            ]
          },
          "metadata": {
            "tags": []
          },
          "execution_count": 18
        }
      ]
    },
    {
      "cell_type": "markdown",
      "metadata": {
        "id": "QFJJ0sbyFwyI"
      },
      "source": [
        "### Custom TF-IDF"
      ]
    },
    {
      "cell_type": "code",
      "metadata": {
        "id": "XcGzYrBFENXb"
      },
      "source": [
        "# just for practicing with unigrams \n",
        "import math\n",
        "from collections import Counter\n",
        "\n",
        "class MyTfIdf():\n",
        "  \n",
        "  def __init__(self, preprocessor=None, min_df = 0.001, max_df = 0.9):\n",
        "    self.preproc_func = preprocessor\n",
        "    self.vocab = []\n",
        "    self.idf = {}\n",
        "    self.term2id = {}\n",
        "    self.min_df = min_df\n",
        "    self.max_df = max_df\n",
        "\n",
        "  def __prepoc_data(self, data):\n",
        "    preproc_data = data\n",
        "    if self.preproc_func is not None:\n",
        "      preproc_data = list(map(self.preproc_func, preproc_data))\n",
        "    preproc_data = list(map(lambda x: x.split(), preproc_data))\n",
        "    return preproc_data\n",
        "\n",
        "\n",
        "  def fit(self, data):\n",
        "    preproc_data = self.__prepoc_data(data)\n",
        "    \n",
        "    vocab_set = set()\n",
        "    for doc in preproc_data:\n",
        "      vocab_set.update(doc)\n",
        "\n",
        "    self.vocab = sorted(list(vocab_set))\n",
        "    df = dict(zip(self.vocab, [0]*len(self.vocab)))\n",
        "    \n",
        "    for doc in preproc_data:\n",
        "      doc_vocab_set = set(doc)\n",
        "      for term in doc_vocab_set:\n",
        "        if term in df.keys():\n",
        "          df[term] += 1\n",
        "    \n",
        "    for k, v in df.items():\n",
        "      df[k] = v / len(preproc_data)\n",
        "\n",
        "    df = {k: v for k, v in df.items() if v > self.min_df and v < self.max_df}\n",
        "    \n",
        "    for k, v in df.items():\n",
        "      self.idf[k] = math.log(1 / v)\n",
        "    \n",
        "    for i, val in enumerate(self.idf.keys()):\n",
        "      self.term2id[val] = i\n",
        "\n",
        "\n",
        "  def fit_transform(self, data):\n",
        "    self.fit(data)\n",
        "    preproc_data = self.__prepoc_data(data)\n",
        "    results = []\n",
        "    for doc in preproc_data:\n",
        "      doc_vector = [0]*len(self.idf.keys())\n",
        "\n",
        "      term_cnts = Counter(doc)\n",
        "      for term in term_cnts.keys():\n",
        "        if term in self.term2id.keys():\n",
        "          tf = term_cnts[term]/len(doc)\n",
        "          doc_vector[self.term2id[term]] = tf * self.idf[term] \n",
        "      \n",
        "      results.append(doc_vector)\n",
        "\n",
        "    return results #self.idf #preproc_data#self.idf "
      ],
      "execution_count": 42,
      "outputs": []
    },
    {
      "cell_type": "code",
      "metadata": {
        "id": "CCEN3FRsF3TV"
      },
      "source": [
        "my_vectorizer = MyTfIdf(preprocessor=preproc1)\n",
        "my_vectors = my_vectorizer.fit_transform(newsgroups_train.data)\n",
        "list(filter(lambda x: x!=0, my_vectors[0]))"
      ],
      "execution_count": null,
      "outputs": []
    },
    {
      "cell_type": "code",
      "metadata": {
        "colab": {
          "base_uri": "https://localhost:8080/"
        },
        "id": "2isPalhJKHJt",
        "outputId": "323c5497-6609-4874-f754-2c2483226950"
      },
      "source": [
        "X_train, X_test, y_train, y_test= train_test_split(my_vectors, newsgroups_train.target, test_size=0.2, random_state=0)\n",
        "y_train.shape, y_test.shape"
      ],
      "execution_count": 53,
      "outputs": [
        {
          "output_type": "execute_result",
          "data": {
            "text/plain": [
              "((1627,), (407,))"
            ]
          },
          "metadata": {
            "tags": []
          },
          "execution_count": 53
        }
      ]
    },
    {
      "cell_type": "code",
      "metadata": {
        "colab": {
          "base_uri": "https://localhost:8080/"
        },
        "id": "XftrZwR5qtOb",
        "outputId": "5ebb8e9c-45ef-48d6-e502-e40c7a0c2890"
      },
      "source": [
        "from sklearn.metrics import accuracy_score\n",
        "\n",
        "svc = svm.SVC()\n",
        "svc.fit(X_train, y_train)\n",
        "accuracy_score(y_test, svc.predict(X_test))"
      ],
      "execution_count": 54,
      "outputs": [
        {
          "output_type": "execute_result",
          "data": {
            "text/plain": [
              "0.9262899262899262"
            ]
          },
          "metadata": {
            "tags": []
          },
          "execution_count": 54
        }
      ]
    },
    {
      "cell_type": "code",
      "metadata": {
        "colab": {
          "base_uri": "https://localhost:8080/"
        },
        "id": "fZE8vHRqdFoG",
        "outputId": "58afe497-4d39-4a26-8d71-3f0442193b06"
      },
      "source": [
        "sgd = SGDClassifier()\n",
        "sgd.fit(X_train, y_train)\n",
        "accuracy_score(y_test, sgd.predict(X_test))"
      ],
      "execution_count": 55,
      "outputs": [
        {
          "output_type": "execute_result",
          "data": {
            "text/plain": [
              "0.9361179361179361"
            ]
          },
          "metadata": {
            "tags": []
          },
          "execution_count": 55
        }
      ]
    },
    {
      "cell_type": "code",
      "metadata": {
        "id": "TCX2djWudmjS"
      },
      "source": [
        ""
      ],
      "execution_count": null,
      "outputs": []
    }
  ]
}