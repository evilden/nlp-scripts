{
 "cells": [
  {
   "cell_type": "code",
   "execution_count": null,
   "metadata": {
    "colab": {
     "base_uri": "https://localhost:8080/",
     "height": 35
    },
    "id": "P9C20KKbqI0F",
    "outputId": "84b3a739-ac12-44bd-f895-6edb19e20787"
   },
   "outputs": [],
   "source": [
    "from google.colab import drive\n",
    "drive.mount('/content/drive')"
   ]
  },
  {
   "cell_type": "code",
   "execution_count": null,
   "metadata": {
    "colab": {
     "base_uri": "https://localhost:8080/",
     "height": 1000
    },
    "id": "0bGac4eZgFiH",
    "outputId": "a4efd5ae-fbbf-4339-ff34-1045364e19ad"
   },
   "outputs": [],
   "source": [
    "#%%capture\n",
    "DATA_DIR = \"/content/drive/My Drive/nlp_frameworks/deeppavlov/movie_sentiment_new\"\n",
    "CONFIG_NAME = f\"{DATA_DIR}/movie_sentiment_bert_new.json\"\n",
    "! pip install deeppavlov\n",
    "! pip install tensorflow-gpu==1.15.2\n",
    "! python -m deeppavlov install \"$CONFIG_NAME\"\n",
    "! python -m deeppavlov download \"$CONFIG_NAME\""
   ]
  },
  {
   "cell_type": "code",
   "execution_count": null,
   "metadata": {
    "id": "8Wb35QlG9eY-"
   },
   "outputs": [],
   "source": [
    "# splitting orig for train and valid\n",
    "\n",
    "# import pandas as pd\n",
    "# train_src = pd.read_csv(f\"{DATA_DIR}/data/train_src.csv\")\n",
    "# row_num = len(train_src.index)\n",
    "# train_src = train_src.sample(frac=1)\n",
    "# train_ds = train_src.head(int(row_num*0.9))\n",
    "# valid_ds = train_src.tail(int(row_num*0.1))\n",
    "# train_ds.to_csv(f\"{DATA_DIR}/data/train.csv\", index=None)\n",
    "# valid_ds.to_csv(f\"{DATA_DIR}/data/valid.csv\", index=None)"
   ]
  },
  {
   "cell_type": "code",
   "execution_count": null,
   "metadata": {
    "colab": {
     "base_uri": "https://localhost:8080/",
     "height": 1000
    },
    "id": "QiZ_shDH4Izy",
    "outputId": "5a8c7807-d1f1-4d7f-b5cb-e64723686cbf"
   },
   "outputs": [],
   "source": [
    "#%%capture\n",
    "from deeppavlov import build_model, configs\n",
    "model = build_model(CONFIG_NAME, download=True)"
   ]
  },
  {
   "cell_type": "code",
   "execution_count": null,
   "metadata": {
    "colab": {
     "base_uri": "https://localhost:8080/",
     "height": 1000
    },
    "id": "8BjTk9VUlidw",
    "outputId": "4531969d-bcec-4fd0-e312-ee3dba5788f2"
   },
   "outputs": [],
   "source": [
    "from deeppavlov import train_model\n",
    "model = train_model(CONFIG_NAME)"
   ]
  },
  {
   "cell_type": "code",
   "execution_count": null,
   "metadata": {
    "id": "TGd8ovY_gwRD"
   },
   "outputs": [],
   "source": [
    "import pandas as pd\n",
    "import numpy as np\n",
    "\n",
    "test = pd.read_csv(f\"{DATA_DIR}/data/test.csv\")\n",
    "x = test.Phrase.values\n",
    "batch_size = 100\n",
    "max_ind = x.shape[0] // batch_size if x.shape[0] % batch_size == 0 else x.shape[0] // batch_size + 1\n",
    "predicted = None\n",
    "for i in range(max_ind):\n",
    "    index_first = i * batch_size\n",
    "\n",
    "    if x.shape[0] % batch_size == 0 or i != max_ind - 1:\n",
    "        index_last = index_first + batch_size\n",
    "    else:\n",
    "        index_last = index_first + x.shape[0] % batch_size\n",
    "\n",
    "    pred_ = model(x[index_first:index_last])\n",
    "\n",
    "    if predicted is not None:\n",
    "        predicted = np.concatenate((predicted, pred_), axis=0)\n",
    "    else:\n",
    "        predicted = y_probability\n",
    "\n",
    "#predicted = model(test.Phrase.values)\n",
    "subm = pd.read_csv(f\"{DATA_DIR}/data/sampleSubmission.csv\")\n",
    "subm['Sentiment'] = predicted\n",
    "subm.to_csv(f\"{DATA_DIR}/data/subm.csv\", index=None)"
   ]
  },
  {
   "cell_type": "code",
   "execution_count": null,
   "metadata": {
    "id": "8QEcTQ6xo2EJ"
   },
   "outputs": [],
   "source": []
  }
 ],
 "metadata": {
  "accelerator": "GPU",
  "colab": {
   "name": "movie_sentiment_deeppavlov.ipynb",
   "provenance": []
  },
  "kernelspec": {
   "display_name": "Python 3",
   "language": "python",
   "name": "python3"
  },
  "language_info": {
   "codemirror_mode": {
    "name": "ipython",
    "version": 3
   },
   "file_extension": ".py",
   "mimetype": "text/x-python",
   "name": "python",
   "nbconvert_exporter": "python",
   "pygments_lexer": "ipython3",
   "version": "3.6.9"
  }
 },
 "nbformat": 4,
 "nbformat_minor": 1
}
